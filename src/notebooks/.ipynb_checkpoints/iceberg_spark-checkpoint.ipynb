{
 "cells": [
  {
   "cell_type": "markdown",
   "id": "d859ea99-3572-4431-b307-23bd59aa9ee7",
   "metadata": {},
   "source": [
    "## Pyspark session setup with Minio, lineage data table creation, scoring and model evaluation"
   ]
  },
  {
   "cell_type": "code",
   "execution_count": 2,
   "id": "d3b5d423-00d1-4ea5-a619-74f1debbdcba",
   "metadata": {
    "scrolled": true
   },
   "outputs": [
    {
     "name": "stdout",
     "output_type": "stream",
     "text": [
      "Spark Iceberg Configurations:\n",
      "Catalog type: hadoop\n",
      "Warehouse location: s3a://local-datalake/warehouse\n",
      "S3A endpoint: http://minio-service:9000\n",
      "\n",
      "Creating namespace...\n",
      "Namespace created: local.demo\n"
     ]
    }
   ],
   "source": [
    "from pyspark.sql import SparkSession\n",
    "\n",
    "# Initialize Spark with Iceberg catalog configurations\n",
    "spark = SparkSession.builder \\\n",
    "    .appName(\"Iceberg-MinIO-Demo\") \\\n",
    "    .config(\"spark.sql.extensions\", \"org.apache.iceberg.spark.extensions.IcebergSparkSessionExtensions\") \\\n",
    "    .config(\"spark.sql.catalog.local\", \"org.apache.iceberg.spark.SparkCatalog\") \\\n",
    "    .config(\"spark.sql.catalog.local.type\", \"hadoop\") \\\n",
    "    .config(\"spark.sql.catalog.local.warehouse\", \"s3a://local-datalake/warehouse\") \\\n",
    "    .config(\"spark.hadoop.fs.s3a.impl\", \"org.apache.hadoop.fs.s3a.S3AFileSystem\") \\\n",
    "    .config(\"spark.hadoop.fs.s3a.connection.ssl.enabled\", \"false\") \\\n",
    "    .config(\"spark.hadoop.fs.s3a.path.style.access\", \"true\") \\\n",
    "    .config(\"spark.hadoop.fs.s3a.impl.disable.cache\", \"true\") \\\n",
    "    .config(\"spark.hadoop.fs.s3a.fast.upload\", \"true\") \\\n",
    "    .config(\"spark.hadoop.fs.s3a.connection.establish.timeout\", \"5000\") \\\n",
    "    .config(\"spark.hadoop.fs.s3a.attempts.maximum\", \"20\") \\\n",
    "    .config(\"spark.hadoop.fs.s3a.connection.timeout\", \"10000\") \\\n",
    "    .config(\"spark.hadoop.mapreduce.fileoutputcommitter.algorithm.version\", \"2\") \\\n",
    "    .getOrCreate()\n",
    "\n",
    "spark.conf.set(\"spark.hadoop.fs.s3a.access.key\", \"fakesecret\")\n",
    "spark.conf.set(\"spark.hadoop.fs.s3a.secret.key\", \"fakesecret\")\n",
    "spark.conf.set(\"spark.hadoop.fs.s3a.endpoint\", \"http://minio-service:9000\")\n",
    "\n",
    "# Use AnonymousAWSCredentialsProvider for read operations\n",
    "spark.conf.set(\"spark.hadoop.fs.s3a.aws.credentials.provider\", \"org.apache.hadoop.fs.s3a.AnonymousAWSCredentialsProvider\")\n",
    "\n",
    "# Add ACL permissions\n",
    "spark.conf.set(\"spark.hadoop.fs.s3a.acl.default\", \"PublicReadWrite\")\n",
    "spark.conf.set(\"spark.hadoop.fs.s3a.multipart.size\", \"5242880\")\n",
    "\n",
    "# Print Spark configurations to verify they are set correctly\n",
    "print(\"Spark Iceberg Configurations:\")\n",
    "print(f\"Catalog type: {spark.conf.get('spark.sql.catalog.local.type')}\")\n",
    "print(f\"Warehouse location: {spark.conf.get('spark.sql.catalog.local.warehouse')}\")\n",
    "print(f\"S3A endpoint: {spark.conf.get('spark.hadoop.fs.s3a.endpoint')}\")\n",
    "\n",
    "# Create namespace for our tables\n",
    "print(\"\\nCreating namespace...\")\n",
    "spark.sql(\"CREATE NAMESPACE IF NOT EXISTS local.demo\")\n",
    "print(\"Namespace created: local.demo\")"
   ]
  },
  {
   "cell_type": "code",
   "execution_count": 4,
   "id": "ebcb144d-7d86-49b6-80e5-68c3250d7717",
   "metadata": {},
   "outputs": [],
   "source": [
    "table_name = \"local.demo.linkage\"\n",
    "\n",
    "parsed = spark.read.option(\"header\", \"true\").option(\"nullValue\", \"?\").\\\n",
    "option(\"inferSchema\", \"true\").csv(\"s3a://local-datalake/raw/block*.csv\")\n",
    "\n",
    "parsed.writeTo(table_name) \\\n",
    "    .tableProperty(\"write.format.default\", \"parquet\") \\\n",
    "    .tableProperty(\"write.parquet.compression-codec\", \"snappy\") \\\n",
    "    .createOrReplace()"
   ]
  },
  {
   "cell_type": "code",
   "execution_count": 5,
   "id": "8febb33b-0493-4f9c-9b4f-4421785e05bc",
   "metadata": {},
   "outputs": [
    {
     "name": "stdout",
     "output_type": "stream",
     "text": [
      "+-----+-----+-----------------+------------+------------+------------+-------+------+------+------+-------+--------+\n",
      "| id_1| id_2|     cmp_fname_c1|cmp_fname_c2|cmp_lname_c1|cmp_lname_c2|cmp_sex|cmp_bd|cmp_bm|cmp_by|cmp_plz|is_match|\n",
      "+-----+-----+-----------------+------------+------------+------------+-------+------+------+------+-------+--------+\n",
      "|37291|53113|0.833333333333333|        NULL|         1.0|        NULL|      1|     1|     1|     1|      0|    true|\n",
      "|39086|47614|              1.0|        NULL|         1.0|        NULL|      1|     1|     1|     1|      1|    true|\n",
      "|70031|70237|              1.0|        NULL|         1.0|        NULL|      1|     1|     1|     1|      1|    true|\n",
      "|84795|97439|              1.0|        NULL|         1.0|        NULL|      1|     1|     1|     1|      1|    true|\n",
      "|36950|42116|              1.0|        NULL|         1.0|         1.0|      1|     1|     1|     1|      1|    true|\n",
      "|42413|48491|              1.0|        NULL|         1.0|        NULL|      1|     1|     1|     1|      1|    true|\n",
      "|25965|64753|              1.0|        NULL|         1.0|        NULL|      1|     1|     1|     1|      1|    true|\n",
      "|49451|90407|              1.0|        NULL|         1.0|        NULL|      1|     1|     1|     1|      0|    true|\n",
      "|39932|40902|              1.0|        NULL|         1.0|        NULL|      1|     1|     1|     1|      1|    true|\n",
      "|46626|47940|              1.0|        NULL|         1.0|        NULL|      1|     1|     1|     1|      1|    true|\n",
      "|48948|98379|              1.0|        NULL|         1.0|        NULL|      1|     1|     1|     1|      1|    true|\n",
      "| 4767| 4826|              1.0|        NULL|         1.0|        NULL|      1|     1|     1|     1|      1|    true|\n",
      "|45463|69659|              1.0|        NULL|         1.0|        NULL|      1|     1|     1|     1|      1|    true|\n",
      "|11367|13169|              1.0|        NULL|         1.0|        NULL|      1|     1|     1|     1|      1|    true|\n",
      "|10782|89636|              1.0|        NULL|         1.0|        NULL|      1|     0|     1|     1|      1|    true|\n",
      "|26206|39147|              1.0|        NULL|         1.0|        NULL|      1|     1|     1|     1|      1|    true|\n",
      "|16662|27083|              1.0|         1.0|         1.0|        NULL|      1|     1|     1|     1|      1|    true|\n",
      "|18823|30204|              1.0|         1.0|         1.0|        NULL|      1|     1|     1|     1|      1|    true|\n",
      "|38545|85418|              1.0|        NULL|         1.0|        NULL|      1|     1|     1|     1|      1|    true|\n",
      "|28963|39172|              1.0|        NULL|         1.0|        NULL|      1|     1|     1|     1|      1|    true|\n",
      "+-----+-----+-----------------+------------+------------+------------+-------+------+------+------+-------+--------+\n",
      "only showing top 20 rows\n",
      "\n"
     ]
    },
    {
     "data": {
      "text/plain": [
       "5749132"
      ]
     },
     "execution_count": 5,
     "metadata": {},
     "output_type": "execute_result"
    }
   ],
   "source": [
    "parsed = spark.table(\"local.demo.linkage\")\n",
    "parsed.show()\n",
    "parsed.count()"
   ]
  },
  {
   "cell_type": "code",
   "execution_count": 7,
   "id": "83e617fd-61c7-43f9-824f-20645cde2cc8",
   "metadata": {},
   "outputs": [],
   "source": [
    "from pyspark.sql import DataFrame\n",
    "from pyspark.sql.types import DoubleType\n",
    "from pyspark.sql.functions import col\n",
    "def pivot_summary(desc):\n",
    "   # convert to pandas dataframe\n",
    "   desc_p = desc.toPandas()\n",
    "   # transpose\n",
    "   desc_p = desc_p.set_index('summary').transpose().reset_index()\n",
    "   desc_p = desc_p.rename(columns={'index':'field'})\n",
    "   desc_p = desc_p.rename_axis(None, axis=1)\n",
    "   # convert to Spark dataframe\n",
    "   descT = spark.createDataFrame(desc_p)\n",
    "   # convert metric columns to double from string\n",
    "   for c in descT.columns:\n",
    "    if c == 'field':\n",
    "        continue\n",
    "    else:\n",
    "        descT = descT.withColumn(c, descT[c].cast(DoubleType()))\n",
    "   return descT\n",
    "    \n",
    "parsed = spark.table(\"local.demo.linkage\")\n",
    "parsed.cache()\n",
    "matches = parsed.where(\"is_match = true\")\n",
    "match_summary = matches.describe()\n",
    "misses = parsed.filter(col(\"is_match\") == False)\n",
    "miss_summary = misses.describe()\n",
    "\n",
    "match_summaryT = pivot_summary(match_summary)\n",
    "miss_summaryT = pivot_summary(miss_summary)"
   ]
  },
  {
   "cell_type": "code",
   "execution_count": 8,
   "id": "4f1e8d37-88b1-40d6-95c0-3ae0188bcc95",
   "metadata": {},
   "outputs": [
    {
     "name": "stdout",
     "output_type": "stream",
     "text": [
      "+------------+---------+--------------------+\n",
      "|       field|    total|               delta|\n",
      "+------------+---------+--------------------+\n",
      "|     cmp_plz|5736289.0|  0.9563812499852176|\n",
      "|cmp_lname_c2|   2464.0|  0.8064147192926265|\n",
      "|      cmp_by|5748337.0|  0.7762059675300512|\n",
      "|      cmp_bd|5748337.0|   0.775442311783404|\n",
      "|cmp_lname_c1|5749132.0|   0.683877248259059|\n",
      "|      cmp_bm|5748337.0|  0.5109496938298685|\n",
      "|cmp_fname_c1|5748125.0| 0.28545290574607884|\n",
      "|cmp_fname_c2| 103698.0| 0.09104268062279974|\n",
      "|     cmp_sex|5749132.0|0.032408185250332844|\n",
      "+------------+---------+--------------------+\n",
      "\n"
     ]
    }
   ],
   "source": [
    "match_summaryT.createOrReplaceTempView(\"match_desc\")\n",
    "miss_summaryT.createOrReplaceTempView(\"miss_desc\")\n",
    "spark.sql(\"\"\"\n",
    "SELECT a.field, a.count + b.count total, a.mean - b.mean delta\n",
    "FROM match_desc a INNER JOIN miss_desc b ON a.field = b.field\n",
    "WHERE a.field NOT IN (\"id_1\", \"id_2\")\n",
    "ORDER BY delta DESC, total DESC\n",
    "\"\"\").show()"
   ]
  },
  {
   "cell_type": "code",
   "execution_count": 9,
   "id": "9037487f-74dd-4004-9cb1-2d3df7699d06",
   "metadata": {},
   "outputs": [
    {
     "name": "stdout",
     "output_type": "stream",
     "text": [
      "+-----+--------+\n",
      "|score|is_match|\n",
      "+-----+--------+\n",
      "|  4.0|    true|\n",
      "|  5.0|    true|\n",
      "|  5.0|    true|\n",
      "|  5.0|    true|\n",
      "|  5.0|    true|\n",
      "|  5.0|    true|\n",
      "|  5.0|    true|\n",
      "|  4.0|    true|\n",
      "|  5.0|    true|\n",
      "|  5.0|    true|\n",
      "|  5.0|    true|\n",
      "|  5.0|    true|\n",
      "|  5.0|    true|\n",
      "|  5.0|    true|\n",
      "|  4.0|    true|\n",
      "|  5.0|    true|\n",
      "|  5.0|    true|\n",
      "|  5.0|    true|\n",
      "|  5.0|    true|\n",
      "|  5.0|    true|\n",
      "+-----+--------+\n",
      "only showing top 20 rows\n",
      "\n"
     ]
    }
   ],
   "source": [
    "from pyspark.sql.functions import expr\n",
    "\n",
    "good_features = [\"cmp_lname_c1\", \"cmp_plz\", \"cmp_by\", \"cmp_bd\", \"cmp_bm\"]\n",
    "sum_expression = \" + \".join(good_features)\n",
    "\n",
    "scored = parsed.fillna(0, subset=good_features).\\\n",
    "            withColumn('score', expr(sum_expression)).\\\n",
    "            select('score', 'is_match')\n",
    "\n",
    "scored.show()"
   ]
  },
  {
   "cell_type": "code",
   "execution_count": 10,
   "id": "ce5a33a4-3979-4019-9744-cf9d9d126066",
   "metadata": {},
   "outputs": [
    {
     "name": "stdout",
     "output_type": "stream",
     "text": [
      "+-----+-----+-------+\n",
      "|above| true|  false|\n",
      "+-----+-----+-------+\n",
      "| true|20871|    637|\n",
      "|false|   60|5727564|\n",
      "+-----+-----+-------+\n",
      "\n",
      "+-----+-----+-------+\n",
      "|above| true|  false|\n",
      "+-----+-----+-------+\n",
      "| true|20931| 596414|\n",
      "|false| NULL|5131787|\n",
      "+-----+-----+-------+\n",
      "\n"
     ]
    }
   ],
   "source": [
    "def crossTabs(scored: DataFrame, t: DoubleType) -> DataFrame:\n",
    "    return scored.selectExpr(f\"score >= {t} as above\", \"is_match\").\\\n",
    "            groupBy(\"above\").pivot(\"is_match\", (\"true\", \"false\")).\\\n",
    "            count()\n",
    "\n",
    "crossTabs(scored, 4.0).show()\n",
    "crossTabs(scored, 2.0).show()"
   ]
  },
  {
   "cell_type": "code",
   "execution_count": null,
   "id": "bdd69b20-f007-4cff-bb04-0841834b37c7",
   "metadata": {},
   "outputs": [],
   "source": []
  }
 ],
 "metadata": {
  "kernelspec": {
   "display_name": "Python 3 (ipykernel)",
   "language": "python",
   "name": "python3"
  },
  "language_info": {
   "codemirror_mode": {
    "name": "ipython",
    "version": 3
   },
   "file_extension": ".py",
   "mimetype": "text/x-python",
   "name": "python",
   "nbconvert_exporter": "python",
   "pygments_lexer": "ipython3",
   "version": "3.11.6"
  }
 },
 "nbformat": 4,
 "nbformat_minor": 5
}
